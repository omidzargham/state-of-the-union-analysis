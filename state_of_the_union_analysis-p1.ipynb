{
 "cells": [
  {
   "cell_type": "markdown",
   "metadata": {},
   "source": [
    "# An analysis of the State of the Union speeches - Part 1"
   ]
  },
  {
   "cell_type": "code",
   "execution_count": 1,
   "metadata": {
    "collapsed": true
   },
   "outputs": [],
   "source": [
    "%matplotlib inline\n",
    "import matplotlib.pyplot as plt\n",
    "import numpy as np\n",
    "import pandas as pd\n",
    "import seaborn as sns\n",
    "\n",
    "import shelve\n",
    "\n",
    "plt.style.use('seaborn-dark')\n",
    "plt.rcParams['figure.figsize'] = (10, 6)"
   ]
  },
  {
   "cell_type": "code",
   "execution_count": 2,
   "metadata": {
    "collapsed": true
   },
   "outputs": [],
   "source": [
    "# Reading text file to extract address metadata, line-by-line\n",
    "data = []\n",
    "fp = open(\"data/stateoftheunion1790-2017.txt\")\n",
    "#open the data through relative path and save it in fp \n",
    "for i, line in enumerate(fp):\n",
    "#use for loop to extrace the data from each line\n",
    "    if i >= 10 and i < 237:\n",
    "        datadict = {}\n",
    "        datadict['president'] = line.split(',')[0].strip()\n",
    "        datadict['title'] = line.split(',')[1].strip()\n",
    "        datadict['date'] = line.split(',')[2].strip() + ' ' + line.split(',')[3].strip()\n",
    "#pull out the president column(0 column), title column(column 1), and date column(column 2) by splitiing the words with \",\"\n",
    "        data.append(datadict)\n",
    "#adding all data together\n",
    "fp.close()\n",
    "#close the fp file\n",
    "addresses = pd.DataFrame(data)\n",
    "\n",
    "# reordering dataframe and converting 'date' column to datetime values\n",
    "addresses = addresses[['president', 'title', 'date']]\n",
    "addresses['date'] = pd.to_datetime(addresses.date)\n",
    "#add date column in addresses.date into data frame addresses"
   ]
  },
  {
   "cell_type": "code",
   "execution_count": 3,
   "metadata": {},
   "outputs": [
    {
     "data": {
      "text/html": [
       "<div>\n",
       "<style>\n",
       "    .dataframe thead tr:only-child th {\n",
       "        text-align: right;\n",
       "    }\n",
       "\n",
       "    .dataframe thead th {\n",
       "        text-align: left;\n",
       "    }\n",
       "\n",
       "    .dataframe tbody tr th {\n",
       "        vertical-align: top;\n",
       "    }\n",
       "</style>\n",
       "<table border=\"1\" class=\"dataframe\">\n",
       "  <thead>\n",
       "    <tr style=\"text-align: right;\">\n",
       "      <th></th>\n",
       "      <th>president</th>\n",
       "      <th>title</th>\n",
       "      <th>date</th>\n",
       "    </tr>\n",
       "  </thead>\n",
       "  <tbody>\n",
       "    <tr>\n",
       "      <th>0</th>\n",
       "      <td>George Washington</td>\n",
       "      <td>State of the Union Address</td>\n",
       "      <td>1790-01-08</td>\n",
       "    </tr>\n",
       "    <tr>\n",
       "      <th>1</th>\n",
       "      <td>George Washington</td>\n",
       "      <td>State of the Union Address</td>\n",
       "      <td>1790-12-08</td>\n",
       "    </tr>\n",
       "    <tr>\n",
       "      <th>2</th>\n",
       "      <td>George Washington</td>\n",
       "      <td>State of the Union Address</td>\n",
       "      <td>1791-10-25</td>\n",
       "    </tr>\n",
       "    <tr>\n",
       "      <th>3</th>\n",
       "      <td>George Washington</td>\n",
       "      <td>State of the Union Address</td>\n",
       "      <td>1792-11-06</td>\n",
       "    </tr>\n",
       "    <tr>\n",
       "      <th>4</th>\n",
       "      <td>George Washington</td>\n",
       "      <td>State of the Union Address</td>\n",
       "      <td>1793-12-03</td>\n",
       "    </tr>\n",
       "  </tbody>\n",
       "</table>\n",
       "</div>"
      ],
      "text/plain": [
       "           president                       title       date\n",
       "0  George Washington  State of the Union Address 1790-01-08\n",
       "1  George Washington  State of the Union Address 1790-12-08\n",
       "2  George Washington  State of the Union Address 1791-10-25\n",
       "3  George Washington  State of the Union Address 1792-11-06\n",
       "4  George Washington  State of the Union Address 1793-12-03"
      ]
     },
     "execution_count": 3,
     "metadata": {},
     "output_type": "execute_result"
    }
   ],
   "source": [
    "addresses.head()"
   ]
  },
  {
   "cell_type": "code",
   "execution_count": 4,
   "metadata": {},
   "outputs": [
    {
     "data": {
      "text/plain": [
       "count                       227\n",
       "unique                       42\n",
       "top       Franklin D. Roosevelt\n",
       "freq                         12\n",
       "Name: president, dtype: object"
      ]
     },
     "execution_count": 4,
     "metadata": {},
     "output_type": "execute_result"
    }
   ],
   "source": [
    "# Describing presidents column\n",
    "addresses.president.describe()"
   ]
  },
  {
   "cell_type": "code",
   "execution_count": 5,
   "metadata": {},
   "outputs": [
    {
     "data": {
      "text/plain": [
       "227.2876712328767"
      ]
     },
     "execution_count": 5,
     "metadata": {},
     "output_type": "execute_result"
    }
   ],
   "source": [
    "# Number of years between first and last address\n",
    "(addresses.date[-1:] - addresses.date[0]).dt.days.values[0] / 365"
   ]
  },
  {
   "cell_type": "code",
   "execution_count": 6,
   "metadata": {},
   "outputs": [
    {
     "data": {
      "text/plain": [
       "January       75\n",
       "February      12\n",
       "March          0\n",
       "April          0\n",
       "May            0\n",
       "June           0\n",
       "July           0\n",
       "August         0\n",
       "September      2\n",
       "October        3\n",
       "November      11\n",
       "December     124\n",
       "Name: Address counts, dtype: int64"
      ]
     },
     "execution_count": 6,
     "metadata": {},
     "output_type": "execute_result"
    }
   ],
   "source": [
    "acounts = addresses.date.dt.strftime('%B').value_counts()[['January', 'February', 'March', 'April', 'May', 'June', 'July', 'August', 'September', 'October', 'November', 'December']].replace(np.nan, 0).astype('int64')\n",
    "#add months from Jan to Dec and the value of number of counts\n",
    "acounts.name = 'Address counts'\n",
    "acounts"
   ]
  },
  {
   "cell_type": "code",
   "execution_count": 7,
   "metadata": {},
   "outputs": [
    {
     "data": {
      "image/png": "[encoded data removed]",
      "text/plain": [
       "<matplotlib.figure.Figure at 0x7f5a203969e8>"
      ]
     },
     "metadata": {},
     "output_type": "display_data"
    }
   ],
   "source": [
    "acounts.plot(kind='bar', style='seaborn-dark', grid=True, title='# of Addresses per Month', )\n",
    "plt.xlabel('Month')\n",
    "plt.ylabel('Frequency')\n",
    "plt.savefig('fig/addresses_month.png');\n",
    "#use seaborn to draw the distributions of number of counts for each year.\n",
    "#x-axis as month, and y-axis is the frequency of number of speeches"
   ]
  },
  {
   "cell_type": "markdown",
   "metadata": {},
   "source": [
    "Let's look at the distribution of differences between successive speeches:"
   ]
  },
  {
   "cell_type": "markdown",
   "metadata": {},
   "source": [
    "Where is the largest gap? We can ask the `ddiff` series for its location:"
   ]
  },
  {
   "cell_type": "code",
   "execution_count": 8,
   "metadata": {
    "collapsed": true
   },
   "outputs": [],
   "source": [
    "dgap = addresses.date.diff().loc[addresses.date.diff() == addresses.date.diff().max()].index.values[0]"
   ]
  },
  {
   "cell_type": "code",
   "execution_count": 9,
   "metadata": {},
   "outputs": [
    {
     "data": {
      "text/plain": [
       "104"
      ]
     },
     "execution_count": 9,
     "metadata": {},
     "output_type": "execute_result"
    }
   ],
   "source": [
    "# this is the index of the largest gap:\n",
    "dgap"
   ]
  },
  {
   "cell_type": "markdown",
   "metadata": {},
   "source": [
    "Let's look at the dates around this index:"
   ]
  },
  {
   "cell_type": "code",
   "execution_count": 10,
   "metadata": {},
   "outputs": [
    {
     "data": {
      "text/plain": [
       "102   1891-12-09\n",
       "103   1892-12-06\n",
       "104   1897-12-06\n",
       "105   1898-12-05\n",
       "Name: date, dtype: datetime64[ns]"
      ]
     },
     "execution_count": 10,
     "metadata": {},
     "output_type": "execute_result"
    }
   ],
   "source": [
    "addresses.date[dgap-2 : dgap+2]\n",
    "#call the rolls that have gap of four years, and we figure out there is a 4 years gap "
   ]
  },
  {
   "cell_type": "markdown",
   "metadata": {},
   "source": [
    "As well as a plot of these times:"
   ]
  },
  {
   "cell_type": "code",
   "execution_count": 11,
   "metadata": {},
   "outputs": [
    {
     "data": {
      "image/png": "[encoded data removed]",
      "text/plain": [
       "<matplotlib.figure.Figure at 0x7f59e7ffe6d8>"
      ]
     },
     "metadata": {},
     "output_type": "display_data"
    }
   ],
   "source": [
    "plt.scatter(x=addresses.date.values, y=addresses.index.values)\n",
    "plt.grid()\n",
    "plt.title(\"Timeline of State of the Union Addresses\")\n",
    "plt.ylabel(\"Speech Number\")\n",
    "plt.xlabel(\"Date\")\n",
    "sns.rugplot(addresses.date.values, color='red')\n",
    "plt.savefig('fig/timeline.png')\n",
    "#use scatter plot for speech numbers in different years, and we have noticed that there is a breaking \n",
    "#point in the middle."
   ]
  },
  {
   "cell_type": "markdown",
   "metadata": {},
   "source": [
    "There is a gap between the year of 1892 to 1897, because the data is imperfected.  As we google search the president during that era, Grover Cleveland was the president during that time. It appears the dataset is missing the State of the Union Addresses from Grover Cleveland's second term, which is 1892-1897, and that is the reason why there is a gap in between."
   ]
  },
  {
   "cell_type": "code",
   "execution_count": 12,
   "metadata": {},
   "outputs": [
    {
     "data": {
      "text/html": [
       "<div>\n",
       "<style>\n",
       "    .dataframe thead tr:only-child th {\n",
       "        text-align: right;\n",
       "    }\n",
       "\n",
       "    .dataframe thead th {\n",
       "        text-align: left;\n",
       "    }\n",
       "\n",
       "    .dataframe tbody tr th {\n",
       "        vertical-align: top;\n",
       "    }\n",
       "</style>\n",
       "<table border=\"1\" class=\"dataframe\">\n",
       "  <thead>\n",
       "    <tr style=\"text-align: right;\">\n",
       "      <th></th>\n",
       "      <th>president</th>\n",
       "      <th>title</th>\n",
       "      <th>date</th>\n",
       "    </tr>\n",
       "  </thead>\n",
       "  <tbody>\n",
       "    <tr>\n",
       "      <th>102</th>\n",
       "      <td>Benjamin Harrison</td>\n",
       "      <td>State of the Union Address</td>\n",
       "      <td>1891-12-09</td>\n",
       "    </tr>\n",
       "    <tr>\n",
       "      <th>103</th>\n",
       "      <td>Benjamin Harrison</td>\n",
       "      <td>State of the Union Address</td>\n",
       "      <td>1892-12-06</td>\n",
       "    </tr>\n",
       "    <tr>\n",
       "      <th>104</th>\n",
       "      <td>William McKinley</td>\n",
       "      <td>State of the Union Address</td>\n",
       "      <td>1897-12-06</td>\n",
       "    </tr>\n",
       "    <tr>\n",
       "      <th>105</th>\n",
       "      <td>William McKinley</td>\n",
       "      <td>State of the Union Address</td>\n",
       "      <td>1898-12-05</td>\n",
       "    </tr>\n",
       "  </tbody>\n",
       "</table>\n",
       "</div>"
      ],
      "text/plain": [
       "             president                       title       date\n",
       "102  Benjamin Harrison  State of the Union Address 1891-12-09\n",
       "103  Benjamin Harrison  State of the Union Address 1892-12-06\n",
       "104   William McKinley  State of the Union Address 1897-12-06\n",
       "105   William McKinley  State of the Union Address 1898-12-05"
      ]
     },
     "execution_count": 12,
     "metadata": {},
     "output_type": "execute_result"
    }
   ],
   "source": [
    "addresses.loc[addresses.date[dgap-2 : dgap+2].index]\n",
    "#similarly to what we did, the index showed the gap between 1892-1897."
   ]
  },
  {
   "cell_type": "code",
   "execution_count": 13,
   "metadata": {},
   "outputs": [
    {
     "data": {
      "text/html": [
       "<div>\n",
       "<style>\n",
       "    .dataframe thead tr:only-child th {\n",
       "        text-align: right;\n",
       "    }\n",
       "\n",
       "    .dataframe thead th {\n",
       "        text-align: left;\n",
       "    }\n",
       "\n",
       "    .dataframe tbody tr th {\n",
       "        vertical-align: top;\n",
       "    }\n",
       "</style>\n",
       "<table border=\"1\" class=\"dataframe\">\n",
       "  <thead>\n",
       "    <tr style=\"text-align: right;\">\n",
       "      <th></th>\n",
       "      <th>president</th>\n",
       "      <th>title</th>\n",
       "      <th>date</th>\n",
       "    </tr>\n",
       "  </thead>\n",
       "  <tbody>\n",
       "    <tr>\n",
       "      <th>96</th>\n",
       "      <td>Grover Cleveland</td>\n",
       "      <td>State of the Union Address</td>\n",
       "      <td>1885-12-08</td>\n",
       "    </tr>\n",
       "    <tr>\n",
       "      <th>97</th>\n",
       "      <td>Grover Cleveland</td>\n",
       "      <td>State of the Union Address</td>\n",
       "      <td>1886-12-06</td>\n",
       "    </tr>\n",
       "    <tr>\n",
       "      <th>98</th>\n",
       "      <td>Grover Cleveland</td>\n",
       "      <td>State of the Union Address</td>\n",
       "      <td>1887-12-06</td>\n",
       "    </tr>\n",
       "    <tr>\n",
       "      <th>99</th>\n",
       "      <td>Grover Cleveland</td>\n",
       "      <td>State of the Union Address</td>\n",
       "      <td>1888-12-03</td>\n",
       "    </tr>\n",
       "  </tbody>\n",
       "</table>\n",
       "</div>"
      ],
      "text/plain": [
       "           president                       title       date\n",
       "96  Grover Cleveland  State of the Union Address 1885-12-08\n",
       "97  Grover Cleveland  State of the Union Address 1886-12-06\n",
       "98  Grover Cleveland  State of the Union Address 1887-12-06\n",
       "99  Grover Cleveland  State of the Union Address 1888-12-03"
      ]
     },
     "execution_count": 13,
     "metadata": {},
     "output_type": "execute_result"
    }
   ],
   "source": [
    "addresses.loc[addresses.president == 'Grover Cleveland']\n",
    "#We have searched it on the google, and it showed that the year 1892-1897 is Grover's term, and \n",
    "#so we called the president Grover Cleveland, and only 1885-1888 showed up."
   ]
  },
  {
   "cell_type": "markdown",
   "metadata": {},
   "source": [
    "It appears the dataset is missing the State of the Union Addresses from Grover Cleveland's second term, since there is only one period of Grover's presidency from 1885-1888."
   ]
  },
  {
   "cell_type": "markdown",
   "metadata": {},
   "source": [
    "## Intermediate results\n",
    "\n",
    "Let's save some intermediate results for further analysis. This lets us work on subsequent notebooks  without rerunning this one.  We use the Pandas HDF5 support for efficient and type-safe serialization of data frames, and the python builtin [shelve](https://docs.python.org/3/library/shelve.html) module for simple Python variables.  We'll create for each notebook variable stores with the notebook number, one for dataframes (`df1.h5`, `df2.h5`, etc.) and one for python variables (`vars1.db`, `vars2.db`, etc.).  These will all go into the `results/` subdirectory."
   ]
  },
  {
   "cell_type": "code",
   "execution_count": 14,
   "metadata": {
    "collapsed": true
   },
   "outputs": [],
   "source": [
    "with open('data/stateoftheunion1790-2017.txt', 'r') as file:\n",
    "    speeches=file.read().split('***')[1:]\n",
    "\n",
    "for i in range(len(speeches)):\n",
    "    speeches[i] = ''.join(speeches[i])\n",
    "    #open the speeches file and join the data from speeches file line-by-line to the new speeches\n",
    "    #using for loop."
   ]
  },
  {
   "cell_type": "code",
   "execution_count": 15,
   "metadata": {
    "collapsed": true
   },
   "outputs": [],
   "source": [
    "addresses.to_hdf('results/df1.h5', 'addresses')\n",
    "\n",
    "with shelve.open('results/vars1') as db:\n",
    "    db['speeches'] = speeches\n",
    "    #store the result as df1.h5 and addresses.  Open the results vars1 to store the new\n",
    "    #data speeches into the database."
   ]
  },
  {
   "cell_type": "code",
   "execution_count": null,
   "metadata": {
    "collapsed": true
   },
   "outputs": [],
   "source": []
  }
 ],
 "metadata": {
  "kernelspec": {
   "display_name": "Python 3",
   "language": "python",
   "name": "python3"
  },
  "language_info": {
   "codemirror_mode": {
    "name": "ipython",
    "version": 3
   },
   "file_extension": ".py",
   "mimetype": "text/x-python",
   "name": "python",
   "nbconvert_exporter": "python",
   "pygments_lexer": "ipython3",
   "version": "3.6.2"
  }
 },
 "nbformat": 4,
 "nbformat_minor": 2
}
